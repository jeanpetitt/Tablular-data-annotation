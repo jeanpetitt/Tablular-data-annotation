{
 "cells": [
  {
   "cell_type": "code",
   "execution_count": 13,
   "metadata": {},
   "outputs": [],
   "source": [
    "# from langchain_community import llms\n",
    "from dotenv import load_dotenv\n",
    "from langchain_openai import ChatOpenAI\n",
    "import os"
   ]
  },
  {
   "cell_type": "code",
   "execution_count": 15,
   "metadata": {},
   "outputs": [],
   "source": [
    "\n",
    "load_dotenv()\n",
    "API_KEY = os.environ['API_KEY']\n",
    "\n",
    "llm = ChatOpenAI(openai_api_key=API_KEY)"
   ]
  },
  {
   "cell_type": "code",
   "execution_count": null,
   "metadata": {},
   "outputs": [],
   "source": [
    "llm.invoke(\"hello\")"
   ]
  },
  {
   "cell_type": "code",
   "execution_count": null,
   "metadata": {},
   "outputs": [],
   "source": [
    "import pandas as pd\n",
    "\n",
    "# Lire le fichier CSV en spécifiant les noms de colonnes\n",
    "df = pd.read_csv(\"../../../cea_dataset.csv\", header=None)\n",
    "\n",
    "# Créer un dictionnaire pour stocker le contexte de chaque colonne\n",
    "contexte_colonne = {}\n",
    "\n",
    "# Parcourir chaque colonne\n",
    "for i, nom_colonne in enumerate(df.columns):\n",
    "    contexte_colonne[i + 1] = df[i].unique()\n",
    "\n",
    "# Afficher le contexte de chaque colonne\n",
    "for col, contexte in contexte_colonne.items():\n",
    "    print(f\"Contexte de la colonne {col}: {contexte}\")"
   ]
  }
 ],
 "metadata": {
  "kernelspec": {
   "display_name": "Python 3",
   "language": "python",
   "name": "python3"
  },
  "language_info": {
   "codemirror_mode": {
    "name": "ipython",
    "version": 3
   },
   "file_extension": ".py",
   "mimetype": "text/x-python",
   "name": "python",
   "nbconvert_exporter": "python",
   "pygments_lexer": "ipython3",
   "version": "3.8.10"
  }
 },
 "nbformat": 4,
 "nbformat_minor": 2
}
